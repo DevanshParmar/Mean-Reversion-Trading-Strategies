{
 "cells": [
  {
   "cell_type": "code",
   "execution_count": 1,
   "metadata": {},
   "outputs": [],
   "source": [
    "import numpy as np\n",
    "import pandas as pd\n",
    "import sys\n",
    "import os\n",
    "from statsmodels.tsa.arima_model import ARIMA\n",
    "\n",
    "import warnings\n",
    "warnings.filterwarnings(\"ignore\")\n",
    "\n",
    "from MakeProfitsCSV import *\n",
    "from HighPerformingStocks import *\n",
    "from HurstStockSelection import *"
   ]
  },
  {
   "cell_type": "code",
   "execution_count": null,
   "metadata": {},
   "outputs": [],
   "source": [
    "make_HurstScoresCSV()"
   ]
  },
  {
   "cell_type": "code",
   "execution_count": null,
   "metadata": {},
   "outputs": [],
   "source": [
    "make_HurstSelectedStocksCSV(0.45)"
   ]
  },
  {
   "cell_type": "code",
   "execution_count": null,
   "metadata": {},
   "outputs": [
    {
     "name": "stdout",
     "output_type": "stream",
     "text": [
      "Number of stocks in consideration: 74\n",
      "--------------------------------------\n"
     ]
    }
   ],
   "source": [
    "make_Profits1D_csv(0.45)"
   ]
  },
  {
   "cell_type": "code",
   "execution_count": null,
   "metadata": {},
   "outputs": [],
   "source": [
    "make_Profits5D_csv(0.45)"
   ]
  },
  {
   "cell_type": "code",
   "execution_count": null,
   "metadata": {
    "scrolled": true
   },
   "outputs": [],
   "source": [
    "make_Profits14D_csv(0.45)"
   ]
  },
  {
   "cell_type": "code",
   "execution_count": 4,
   "metadata": {},
   "outputs": [],
   "source": [
    "df1 = HighPerformingStocks(\"Profits1D.csv\")\n",
    "df5 = HighPerformingStocks(\"Profits5D.csv\")\n",
    "df14 = HighPerformingStocks(\"Profits14D.csv\")"
   ]
  },
  {
   "cell_type": "code",
   "execution_count": 6,
   "metadata": {},
   "outputs": [
    {
     "name": "stdout",
     "output_type": "stream",
     "text": [
      "    StockName  avg_profit  NTrades  total_profit timeseries\n",
      "0    INFIBEAM   63.082522     3296  207919.99330         5d\n",
      "1     YESBANK   50.098314     3806  190674.18150         5d\n",
      "2    HDFCBANK   31.291499     4799  150167.90590         5d\n",
      "3      GRASIM   40.275046     3695  148816.29570         5d\n",
      "4    RELIANCE   21.106019     5965  125897.40530         1d\n",
      "5  RELCAPITAL   29.434100     4266  125565.86980         5d\n",
      "6   BHARATFIN   35.152829     3340  117410.45050         5d\n",
      "7       SUNTV   14.003456     6010   84160.76986         1d\n",
      "8   KOTAKBANK   17.716374     4434   78554.40057         5d\n",
      "9        DHFL   17.899876     4158   74427.68327         5d\n"
     ]
    }
   ],
   "source": [
    "df_mix = pd.concat([df1,df5, df14]).reset_index(drop= True)\n",
    "df_mix = make_TopStocksCSV(df_mix, 10)"
   ]
  }
 ],
 "metadata": {
  "kernelspec": {
   "display_name": "Python [conda env:myenv]",
   "language": "python",
   "name": "conda-env-myenv-py"
  },
  "language_info": {
   "codemirror_mode": {
    "name": "ipython",
    "version": 3
   },
   "file_extension": ".py",
   "mimetype": "text/x-python",
   "name": "python",
   "nbconvert_exporter": "python",
   "pygments_lexer": "ipython3",
   "version": "3.7.13"
  },
  "vscode": {
   "interpreter": {
    "hash": "63963b3f4c440940f0b94a3100916033a226cb4f45979123153792d60aa56d6a"
   }
  }
 },
 "nbformat": 4,
 "nbformat_minor": 2
}
